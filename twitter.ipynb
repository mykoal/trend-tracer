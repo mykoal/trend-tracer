{
 "cells": [
  {
   "cell_type": "code",
   "execution_count": 3,
   "metadata": {},
   "outputs": [
    {
     "name": "stdout",
     "output_type": "stream",
     "text": [
      "Epoch 1/10, Loss: 0.5294\n",
      "Epoch 2/10, Loss: 0.3399\n",
      "Epoch 3/10, Loss: 0.2944\n",
      "Epoch 4/10, Loss: 0.2628\n",
      "Epoch 5/10, Loss: 0.2366\n",
      "Epoch 6/10, Loss: 0.2164\n",
      "Epoch 7/10, Loss: 0.1993\n",
      "Epoch 8/10, Loss: 0.1799\n",
      "Epoch 9/10, Loss: 0.1639\n",
      "Epoch 10/10, Loss: 0.1484\n"
     ]
    }
   ],
   "source": [
    "import tweepy\n",
    "import requests\n",
    "from PIL import Image\n",
    "import io\n",
    "import torch\n",
    "from torchvision.transforms import ToTensor\n",
    "from ipynb.fs.full.cnn import FashionCNN  # Import the CNN model"
   ]
  },
  {
   "cell_type": "code",
   "execution_count": 4,
   "metadata": {},
   "outputs": [],
   "source": [
    "# https://developer.twitter.com/en/portal/projects-and-apps\n",
    "# Authenticate and set up access to the Twitter API\n",
    "consumer_key = \"x\"\n",
    "consumer_secret = \"x\"\n",
    "access_token = \"x-x\"\n",
    "access_token_secret = \"x\""
   ]
  },
  {
   "cell_type": "code",
   "execution_count": 5,
   "metadata": {},
   "outputs": [],
   "source": [
    "auth = tweepy.OAuthHandler(consumer_key, consumer_secret)\n",
    "auth.set_access_token(access_token, access_token_secret)\n",
    "api = tweepy.API(auth)"
   ]
  },
  {
   "cell_type": "code",
   "execution_count": 6,
   "metadata": {},
   "outputs": [
    {
     "data": {
      "text/plain": [
       "FashionCNN(\n",
       "  (conv1): Conv2d(1, 32, kernel_size=(3, 3), stride=(1, 1))\n",
       "  (conv2): Conv2d(32, 64, kernel_size=(3, 3), stride=(1, 1))\n",
       "  (fc1): Linear(in_features=1600, out_features=128, bias=True)\n",
       "  (fc2): Linear(in_features=128, out_features=10, bias=True)\n",
       ")"
      ]
     },
     "execution_count": 6,
     "metadata": {},
     "output_type": "execute_result"
    }
   ],
   "source": [
    "# Load the saved CNN model\n",
    "model = FashionCNN()\n",
    "model.load_state_dict(torch.load(\"fashion_cnn.pth\"))\n",
    "model.eval()"
   ]
  },
  {
   "cell_type": "code",
   "execution_count": null,
   "metadata": {},
   "outputs": [],
   "source": [
    "# WILL NEED TOKENS AND PROPER AUTHORIZATION FOR THIS TO WORK\n",
    "\n",
    "# Twitter @s to search from\n",
    "accounts = [\"Zara\", \"sheinofficial\", \"hm\"]\n",
    "hashtags = []\n",
    "\n",
    "# Initialize the dictionary to store clothing types and frequencies\n",
    "trending_clothing = {}\n",
    "\n",
    "# Retrieve and classify images from Twitter\n",
    "for account in accounts:\n",
    "    tweets = api.user_timeline(screen_name=account, count=10, include_rts=False, tweet_mode=\"extended\")\n",
    "    for tweet in tweets:\n",
    "        if 'media' in tweet.entities:\n",
    "            for media in tweet.entities['media']:\n",
    "                if media['type'] == 'photo':\n",
    "                    image_url = media['media_url']\n",
    "                    response = requests.get(image_url)\n",
    "                    image = Image.open(io.BytesIO(response.content)).convert(\"RGB\")\n",
    "                    image_tensor = ToTensor()(image).unsqueeze(0)\n",
    "\n",
    "                    # Classify the clothing type using the CNN model\n",
    "                    output = model(image_tensor)\n",
    "                    _, predicted = torch.max(output.data, 1)\n",
    "                    predicted_class = predicted.item()\n",
    "\n",
    "                    # Update the clothing type frequencies\n",
    "                    trending_clothing[predicted_class] = trending_clothing.get(predicted_class, 0) + 1\n",
    "\n",
    "                    print(f\"Tweet ID: {tweet.id}, Account: {account}, Predicted Class: {predicted_class}\")"
   ]
  },
  {
   "cell_type": "code",
   "execution_count": 7,
   "metadata": {},
   "outputs": [],
   "source": [
    "# Visualizations in visualizations.ipynb"
   ]
  }
 ],
 "metadata": {
  "kernelspec": {
   "display_name": "Python 3",
   "language": "python",
   "name": "python3"
  },
  "language_info": {
   "codemirror_mode": {
    "name": "ipython",
    "version": 3
   },
   "file_extension": ".py",
   "mimetype": "text/x-python",
   "name": "python",
   "nbconvert_exporter": "python",
   "pygments_lexer": "ipython3",
   "version": "3.11.0"
  },
  "orig_nbformat": 4
 },
 "nbformat": 4,
 "nbformat_minor": 2
}
